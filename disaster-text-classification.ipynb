{
 "cells": [
  {
   "cell_type": "code",
   "execution_count": 1,
   "id": "a1fdbd1a",
   "metadata": {
    "_cell_guid": "b1076dfc-b9ad-4769-8c92-a6c4dae69d19",
    "_uuid": "8f2839f25d086af736a60e9eeb907d3b93b6e0e5",
    "execution": {
     "iopub.execute_input": "2024-02-29T15:49:43.308489Z",
     "iopub.status.busy": "2024-02-29T15:49:43.307730Z",
     "iopub.status.idle": "2024-02-29T15:49:44.261557Z",
     "shell.execute_reply": "2024-02-29T15:49:44.259772Z"
    },
    "papermill": {
     "duration": 0.970728,
     "end_time": "2024-02-29T15:49:44.264233",
     "exception": false,
     "start_time": "2024-02-29T15:49:43.293505",
     "status": "completed"
    },
    "tags": []
   },
   "outputs": [
    {
     "name": "stdout",
     "output_type": "stream",
     "text": [
      "/kaggle/input/nlp-getting-started/sample_submission.csv\n",
      "/kaggle/input/nlp-getting-started/train.csv\n",
      "/kaggle/input/nlp-getting-started/test.csv\n"
     ]
    }
   ],
   "source": [
    "# This Python 3 environment comes with many helpful analytics libraries installed\n",
    "# It is defined by the kaggle/python Docker image: https://github.com/kaggle/docker-python\n",
    "# For example, here's several helpful packages to load\n",
    "\n",
    "import numpy as np # linear algebra\n",
    "import pandas as pd # data processing, CSV file I/O (e.g. pd.read_csv)\n",
    "\n",
    "# Input data files are available in the read-only \"../input/\" directory\n",
    "# For example, running this (by clicking run or pressing Shift+Enter) will list all files under the input directory\n",
    "\n",
    "import os\n",
    "for dirname, _, filenames in os.walk('/kaggle/input'):\n",
    "    for filename in filenames:\n",
    "        print(os.path.join(dirname, filename))\n",
    "\n",
    "# You can write up to 20GB to the current directory (/kaggle/working/) that gets preserved as output when you create a version using \"Save & Run All\" \n",
    "# You can also write temporary files to /kaggle/temp/, but they won't be saved outside of the current session"
   ]
  },
  {
   "cell_type": "code",
   "execution_count": 2,
   "id": "7f257f55",
   "metadata": {
    "execution": {
     "iopub.execute_input": "2024-02-29T15:49:44.290010Z",
     "iopub.status.busy": "2024-02-29T15:49:44.289452Z",
     "iopub.status.idle": "2024-02-29T15:49:46.892985Z",
     "shell.execute_reply": "2024-02-29T15:49:46.891653Z"
    },
    "papermill": {
     "duration": 2.619662,
     "end_time": "2024-02-29T15:49:46.895824",
     "exception": false,
     "start_time": "2024-02-29T15:49:44.276162",
     "status": "completed"
    },
    "tags": []
   },
   "outputs": [],
   "source": [
    "import pandas as pd\n",
    "import seaborn as sns\n",
    "import matplotlib.pyplot as plt\n",
    "from sklearn.pipeline import Pipeline\n",
    "import nltk\n",
    "from sklearn.base import BaseEstimator, TransformerMixin\n",
    "from nltk.stem import WordNetLemmatizer\n",
    "from sklearn.feature_extraction.text import TfidfVectorizer\n",
    "from sklearn.naive_bayes import MultinomialNB,BernoulliNB\n",
    "from sklearn.ensemble import RandomForestClassifier\n",
    "from sklearn.linear_model import LogisticRegression\n",
    "from sklearn.model_selection import train_test_split\n",
    "from sklearn.metrics import accuracy_score, classification_report\n",
    "import re"
   ]
  },
  {
   "cell_type": "code",
   "execution_count": 3,
   "id": "466fc316",
   "metadata": {
    "execution": {
     "iopub.execute_input": "2024-02-29T15:49:46.921448Z",
     "iopub.status.busy": "2024-02-29T15:49:46.921000Z",
     "iopub.status.idle": "2024-02-29T15:49:47.022350Z",
     "shell.execute_reply": "2024-02-29T15:49:47.021412Z"
    },
    "papermill": {
     "duration": 0.117329,
     "end_time": "2024-02-29T15:49:47.025030",
     "exception": false,
     "start_time": "2024-02-29T15:49:46.907701",
     "status": "completed"
    },
    "tags": []
   },
   "outputs": [],
   "source": [
    "train = pd.read_csv(r\"/kaggle/input/nlp-getting-started/train.csv\")\n",
    "test = pd.read_csv(r\"/kaggle/input/nlp-getting-started/test.csv\")"
   ]
  },
  {
   "cell_type": "code",
   "execution_count": 4,
   "id": "26f18c57",
   "metadata": {
    "execution": {
     "iopub.execute_input": "2024-02-29T15:49:47.051157Z",
     "iopub.status.busy": "2024-02-29T15:49:47.050035Z",
     "iopub.status.idle": "2024-02-29T15:49:47.069302Z",
     "shell.execute_reply": "2024-02-29T15:49:47.068370Z"
    },
    "papermill": {
     "duration": 0.034533,
     "end_time": "2024-02-29T15:49:47.071460",
     "exception": false,
     "start_time": "2024-02-29T15:49:47.036927",
     "status": "completed"
    },
    "tags": []
   },
   "outputs": [
    {
     "data": {
      "text/html": [
       "<div>\n",
       "<style scoped>\n",
       "    .dataframe tbody tr th:only-of-type {\n",
       "        vertical-align: middle;\n",
       "    }\n",
       "\n",
       "    .dataframe tbody tr th {\n",
       "        vertical-align: top;\n",
       "    }\n",
       "\n",
       "    .dataframe thead th {\n",
       "        text-align: right;\n",
       "    }\n",
       "</style>\n",
       "<table border=\"1\" class=\"dataframe\">\n",
       "  <thead>\n",
       "    <tr style=\"text-align: right;\">\n",
       "      <th></th>\n",
       "      <th>id</th>\n",
       "      <th>keyword</th>\n",
       "      <th>location</th>\n",
       "      <th>text</th>\n",
       "      <th>target</th>\n",
       "    </tr>\n",
       "  </thead>\n",
       "  <tbody>\n",
       "    <tr>\n",
       "      <th>0</th>\n",
       "      <td>1</td>\n",
       "      <td>NaN</td>\n",
       "      <td>NaN</td>\n",
       "      <td>Our Deeds are the Reason of this #earthquake M...</td>\n",
       "      <td>1</td>\n",
       "    </tr>\n",
       "    <tr>\n",
       "      <th>1</th>\n",
       "      <td>4</td>\n",
       "      <td>NaN</td>\n",
       "      <td>NaN</td>\n",
       "      <td>Forest fire near La Ronge Sask. Canada</td>\n",
       "      <td>1</td>\n",
       "    </tr>\n",
       "    <tr>\n",
       "      <th>2</th>\n",
       "      <td>5</td>\n",
       "      <td>NaN</td>\n",
       "      <td>NaN</td>\n",
       "      <td>All residents asked to 'shelter in place' are ...</td>\n",
       "      <td>1</td>\n",
       "    </tr>\n",
       "    <tr>\n",
       "      <th>3</th>\n",
       "      <td>6</td>\n",
       "      <td>NaN</td>\n",
       "      <td>NaN</td>\n",
       "      <td>13,000 people receive #wildfires evacuation or...</td>\n",
       "      <td>1</td>\n",
       "    </tr>\n",
       "    <tr>\n",
       "      <th>4</th>\n",
       "      <td>7</td>\n",
       "      <td>NaN</td>\n",
       "      <td>NaN</td>\n",
       "      <td>Just got sent this photo from Ruby #Alaska as ...</td>\n",
       "      <td>1</td>\n",
       "    </tr>\n",
       "  </tbody>\n",
       "</table>\n",
       "</div>"
      ],
      "text/plain": [
       "   id keyword location                                               text  \\\n",
       "0   1     NaN      NaN  Our Deeds are the Reason of this #earthquake M...   \n",
       "1   4     NaN      NaN             Forest fire near La Ronge Sask. Canada   \n",
       "2   5     NaN      NaN  All residents asked to 'shelter in place' are ...   \n",
       "3   6     NaN      NaN  13,000 people receive #wildfires evacuation or...   \n",
       "4   7     NaN      NaN  Just got sent this photo from Ruby #Alaska as ...   \n",
       "\n",
       "   target  \n",
       "0       1  \n",
       "1       1  \n",
       "2       1  \n",
       "3       1  \n",
       "4       1  "
      ]
     },
     "execution_count": 4,
     "metadata": {},
     "output_type": "execute_result"
    }
   ],
   "source": [
    "train.head()"
   ]
  },
  {
   "cell_type": "code",
   "execution_count": 5,
   "id": "d840c237",
   "metadata": {
    "execution": {
     "iopub.execute_input": "2024-02-29T15:49:47.097665Z",
     "iopub.status.busy": "2024-02-29T15:49:47.096917Z",
     "iopub.status.idle": "2024-02-29T15:49:47.668160Z",
     "shell.execute_reply": "2024-02-29T15:49:47.666949Z"
    },
    "papermill": {
     "duration": 0.587533,
     "end_time": "2024-02-29T15:49:47.671058",
     "exception": false,
     "start_time": "2024-02-29T15:49:47.083525",
     "status": "completed"
    },
    "tags": []
   },
   "outputs": [
    {
     "data": {
      "text/plain": [
       "<Axes: >"
      ]
     },
     "execution_count": 5,
     "metadata": {},
     "output_type": "execute_result"
    },
    {
     "data": {
      "image/png": "[encoded data removed]",
      "text/plain": [
       "<Figure size 640x480 with 2 Axes>"
      ]
     },
     "metadata": {},
     "output_type": "display_data"
    }
   ],
   "source": [
    "sns.heatmap(train.isnull())"
   ]
  },
  {
   "cell_type": "code",
   "execution_count": 6,
   "id": "eb62d694",
   "metadata": {
    "execution": {
     "iopub.execute_input": "2024-02-29T15:49:47.698341Z",
     "iopub.status.busy": "2024-02-29T15:49:47.697945Z",
     "iopub.status.idle": "2024-02-29T15:49:47.710131Z",
     "shell.execute_reply": "2024-02-29T15:49:47.708904Z"
    },
    "papermill": {
     "duration": 0.028868,
     "end_time": "2024-02-29T15:49:47.712753",
     "exception": false,
     "start_time": "2024-02-29T15:49:47.683885",
     "status": "completed"
    },
    "tags": []
   },
   "outputs": [
    {
     "data": {
      "text/plain": [
       "id             0\n",
       "keyword       61\n",
       "location    2533\n",
       "text           0\n",
       "target         0\n",
       "dtype: int64"
      ]
     },
     "execution_count": 6,
     "metadata": {},
     "output_type": "execute_result"
    }
   ],
   "source": [
    "train.isna().sum()"
   ]
  },
  {
   "cell_type": "code",
   "execution_count": 7,
   "id": "d4328073",
   "metadata": {
    "execution": {
     "iopub.execute_input": "2024-02-29T15:49:47.740411Z",
     "iopub.status.busy": "2024-02-29T15:49:47.740002Z",
     "iopub.status.idle": "2024-02-29T15:49:47.911485Z",
     "shell.execute_reply": "2024-02-29T15:49:47.910314Z"
    },
    "papermill": {
     "duration": 0.188331,
     "end_time": "2024-02-29T15:49:47.914074",
     "exception": false,
     "start_time": "2024-02-29T15:49:47.725743",
     "status": "completed"
    },
    "tags": []
   },
   "outputs": [
    {
     "data": {
      "text/plain": [
       "<Axes: xlabel='target', ylabel='count'>"
      ]
     },
     "execution_count": 7,
     "metadata": {},
     "output_type": "execute_result"
    },
    {
     "data": {
      "image/png": "[encoded data removed]",
      "text/plain": [
       "<Figure size 640x480 with 1 Axes>"
      ]
     },
     "metadata": {},
     "output_type": "display_data"
    }
   ],
   "source": [
    "sns.countplot(data=train,x='target')"
   ]
  },
  {
   "cell_type": "code",
   "execution_count": 8,
   "id": "cda7fc60",
   "metadata": {
    "execution": {
     "iopub.execute_input": "2024-02-29T15:49:47.943752Z",
     "iopub.status.busy": "2024-02-29T15:49:47.943344Z",
     "iopub.status.idle": "2024-02-29T15:49:47.948487Z",
     "shell.execute_reply": "2024-02-29T15:49:47.947295Z"
    },
    "papermill": {
     "duration": 0.022185,
     "end_time": "2024-02-29T15:49:47.950676",
     "exception": false,
     "start_time": "2024-02-29T15:49:47.928491",
     "status": "completed"
    },
    "tags": []
   },
   "outputs": [],
   "source": [
    "# def remove_non_alphabetic(text):\n",
    "#     return re.sub('[^a-zA-Z]', '', text)\n",
    "# class RemoveNonAlphabet(BaseEstimator, TransformerMixin):\n",
    "#     def fit(self,X):\n",
    "#         return self\n",
    "#     def transform(self,X):\n",
    "#         return [''.join(re.sub('[^a-zA-Z]', '', text)) for text in X]"
   ]
  },
  {
   "cell_type": "code",
   "execution_count": 9,
   "id": "961c69ad",
   "metadata": {
    "execution": {
     "iopub.execute_input": "2024-02-29T15:49:47.979671Z",
     "iopub.status.busy": "2024-02-29T15:49:47.978809Z",
     "iopub.status.idle": "2024-02-29T15:49:47.983758Z",
     "shell.execute_reply": "2024-02-29T15:49:47.982994Z"
    },
    "papermill": {
     "duration": 0.022053,
     "end_time": "2024-02-29T15:49:47.986096",
     "exception": false,
     "start_time": "2024-02-29T15:49:47.964043",
     "status": "completed"
    },
    "tags": []
   },
   "outputs": [],
   "source": [
    "# def stopwords(string):\n",
    "#     text = string.split()\n",
    "#     return ''.join([i for i in text if i not in nltk.corpus.stopwords.words('english')])\n",
    "# class StopWords(BaseEstimator, TransformerMixin):\n",
    "#     def fit(self,X):\n",
    "#         return self\n",
    "#     def transform(self,X):\n",
    "#         return [''.join([i for i in text.split() if i not in nltk.corpus.stopwords.words('english')]) for text in X]\n",
    "    \n",
    "    "
   ]
  },
  {
   "cell_type": "code",
   "execution_count": 10,
   "id": "e1fefbdd",
   "metadata": {
    "execution": {
     "iopub.execute_input": "2024-02-29T15:49:48.015206Z",
     "iopub.status.busy": "2024-02-29T15:49:48.014434Z",
     "iopub.status.idle": "2024-02-29T15:49:48.019457Z",
     "shell.execute_reply": "2024-02-29T15:49:48.018576Z"
    },
    "papermill": {
     "duration": 0.022162,
     "end_time": "2024-02-29T15:49:48.021695",
     "exception": false,
     "start_time": "2024-02-29T15:49:47.999533",
     "status": "completed"
    },
    "tags": []
   },
   "outputs": [],
   "source": [
    "# class Lemmatizer( BaseEstimator, TransformerMixin):\n",
    "    \n",
    "#     def fit(self,X):\n",
    "#         return self\n",
    "#     def transform(self,X):\n",
    "#         lemmatize = WordNetLemmatizer()\n",
    "#         return [''.join([lemmatize.lemmatize(i) for i in text]) for text in X]"
   ]
  },
  {
   "cell_type": "code",
   "execution_count": 11,
   "id": "cbfc45f0",
   "metadata": {
    "execution": {
     "iopub.execute_input": "2024-02-29T15:49:48.051129Z",
     "iopub.status.busy": "2024-02-29T15:49:48.050333Z",
     "iopub.status.idle": "2024-02-29T15:49:48.055486Z",
     "shell.execute_reply": "2024-02-29T15:49:48.054486Z"
    },
    "papermill": {
     "duration": 0.022812,
     "end_time": "2024-02-29T15:49:48.057998",
     "exception": false,
     "start_time": "2024-02-29T15:49:48.035186",
     "status": "completed"
    },
    "tags": []
   },
   "outputs": [],
   "source": [
    "# !unzip /usr/share/nltk_data/corpora/wordnet.zip -d /usr/share/nltk_data/corpora/"
   ]
  },
  {
   "cell_type": "code",
   "execution_count": 12,
   "id": "3272670c",
   "metadata": {
    "execution": {
     "iopub.execute_input": "2024-02-29T15:49:48.087554Z",
     "iopub.status.busy": "2024-02-29T15:49:48.087114Z",
     "iopub.status.idle": "2024-02-29T15:49:48.092490Z",
     "shell.execute_reply": "2024-02-29T15:49:48.091225Z"
    },
    "papermill": {
     "duration": 0.022833,
     "end_time": "2024-02-29T15:49:48.094915",
     "exception": false,
     "start_time": "2024-02-29T15:49:48.072082",
     "status": "completed"
    },
    "tags": []
   },
   "outputs": [],
   "source": [
    "tfidf = TfidfVectorizer(max_features=5000,stop_words='english')"
   ]
  },
  {
   "cell_type": "code",
   "execution_count": 13,
   "id": "15aaae50",
   "metadata": {
    "execution": {
     "iopub.execute_input": "2024-02-29T15:49:48.124421Z",
     "iopub.status.busy": "2024-02-29T15:49:48.123326Z",
     "iopub.status.idle": "2024-02-29T15:49:48.129077Z",
     "shell.execute_reply": "2024-02-29T15:49:48.128171Z"
    },
    "papermill": {
     "duration": 0.023374,
     "end_time": "2024-02-29T15:49:48.131626",
     "exception": false,
     "start_time": "2024-02-29T15:49:48.108252",
     "status": "completed"
    },
    "tags": []
   },
   "outputs": [],
   "source": [
    "X = train['text']\n",
    "y = train['target']"
   ]
  },
  {
   "cell_type": "code",
   "execution_count": 14,
   "id": "82096a04",
   "metadata": {
    "execution": {
     "iopub.execute_input": "2024-02-29T15:49:48.160807Z",
     "iopub.status.busy": "2024-02-29T15:49:48.159762Z",
     "iopub.status.idle": "2024-02-29T15:49:48.169120Z",
     "shell.execute_reply": "2024-02-29T15:49:48.167947Z"
    },
    "papermill": {
     "duration": 0.02653,
     "end_time": "2024-02-29T15:49:48.171707",
     "exception": false,
     "start_time": "2024-02-29T15:49:48.145177",
     "status": "completed"
    },
    "tags": []
   },
   "outputs": [],
   "source": [
    "X_train, X_test, y_train, y_test = train_test_split(X, y, test_size=0.2, random_state=42)"
   ]
  },
  {
   "cell_type": "code",
   "execution_count": 15,
   "id": "7ad23b1a",
   "metadata": {
    "execution": {
     "iopub.execute_input": "2024-02-29T15:49:48.200353Z",
     "iopub.status.busy": "2024-02-29T15:49:48.199927Z",
     "iopub.status.idle": "2024-02-29T15:49:48.423895Z",
     "shell.execute_reply": "2024-02-29T15:49:48.422700Z"
    },
    "papermill": {
     "duration": 0.241444,
     "end_time": "2024-02-29T15:49:48.426751",
     "exception": false,
     "start_time": "2024-02-29T15:49:48.185307",
     "status": "completed"
    },
    "tags": []
   },
   "outputs": [],
   "source": [
    "X_train = tfidf.fit_transform(X_train)"
   ]
  },
  {
   "cell_type": "code",
   "execution_count": 16,
   "id": "936c70e0",
   "metadata": {
    "execution": {
     "iopub.execute_input": "2024-02-29T15:49:48.457498Z",
     "iopub.status.busy": "2024-02-29T15:49:48.457083Z",
     "iopub.status.idle": "2024-02-29T15:49:48.503612Z",
     "shell.execute_reply": "2024-02-29T15:49:48.502246Z"
    },
    "papermill": {
     "duration": 0.06447,
     "end_time": "2024-02-29T15:49:48.506499",
     "exception": false,
     "start_time": "2024-02-29T15:49:48.442029",
     "status": "completed"
    },
    "tags": []
   },
   "outputs": [],
   "source": [
    "X_test = tfidf.transform(X_test)"
   ]
  },
  {
   "cell_type": "markdown",
   "id": "f514396f",
   "metadata": {
    "papermill": {
     "duration": 0.012908,
     "end_time": "2024-02-29T15:49:48.533088",
     "exception": false,
     "start_time": "2024-02-29T15:49:48.520180",
     "status": "completed"
    },
    "tags": []
   },
   "source": [
    "**Multinomial Naive-bayes\n",
    "**"
   ]
  },
  {
   "cell_type": "code",
   "execution_count": 17,
   "id": "d53d8daf",
   "metadata": {
    "execution": {
     "iopub.execute_input": "2024-02-29T15:49:48.561546Z",
     "iopub.status.busy": "2024-02-29T15:49:48.561123Z",
     "iopub.status.idle": "2024-02-29T15:49:48.566121Z",
     "shell.execute_reply": "2024-02-29T15:49:48.564889Z"
    },
    "papermill": {
     "duration": 0.022051,
     "end_time": "2024-02-29T15:49:48.568486",
     "exception": false,
     "start_time": "2024-02-29T15:49:48.546435",
     "status": "completed"
    },
    "tags": []
   },
   "outputs": [],
   "source": [
    "mnb = MultinomialNB()"
   ]
  },
  {
   "cell_type": "code",
   "execution_count": 18,
   "id": "b25c33dc",
   "metadata": {
    "execution": {
     "iopub.execute_input": "2024-02-29T15:49:48.598704Z",
     "iopub.status.busy": "2024-02-29T15:49:48.598315Z",
     "iopub.status.idle": "2024-02-29T15:49:48.615467Z",
     "shell.execute_reply": "2024-02-29T15:49:48.614630Z"
    },
    "papermill": {
     "duration": 0.038354,
     "end_time": "2024-02-29T15:49:48.620248",
     "exception": false,
     "start_time": "2024-02-29T15:49:48.581894",
     "status": "completed"
    },
    "tags": []
   },
   "outputs": [
    {
     "data": {
      "text/html": [
       "<style>#sk-container-id-1 {color: black;background-color: white;}#sk-container-id-1 pre{padding: 0;}#sk-container-id-1 div.sk-toggleable {background-color: white;}#sk-container-id-1 label.sk-toggleable__label {cursor: pointer;display: block;width: 100%;margin-bottom: 0;padding: 0.3em;box-sizing: border-box;text-align: center;}#sk-container-id-1 label.sk-toggleable__label-arrow:before {content: \"▸\";float: left;margin-right: 0.25em;color: #696969;}#sk-container-id-1 label.sk-toggleable__label-arrow:hover:before {color: black;}#sk-container-id-1 div.sk-estimator:hover label.sk-toggleable__label-arrow:before {color: black;}#sk-container-id-1 div.sk-toggleable__content {max-height: 0;max-width: 0;overflow: hidden;text-align: left;background-color: #f0f8ff;}#sk-container-id-1 div.sk-toggleable__content pre {margin: 0.2em;color: black;border-radius: 0.25em;background-color: #f0f8ff;}#sk-container-id-1 input.sk-toggleable__control:checked~div.sk-toggleable__content {max-height: 200px;max-width: 100%;overflow: auto;}#sk-container-id-1 input.sk-toggleable__control:checked~label.sk-toggleable__label-arrow:before {content: \"▾\";}#sk-container-id-1 div.sk-estimator input.sk-toggleable__control:checked~label.sk-toggleable__label {background-color: #d4ebff;}#sk-container-id-1 div.sk-label input.sk-toggleable__control:checked~label.sk-toggleable__label {background-color: #d4ebff;}#sk-container-id-1 input.sk-hidden--visually {border: 0;clip: rect(1px 1px 1px 1px);clip: rect(1px, 1px, 1px, 1px);height: 1px;margin: -1px;overflow: hidden;padding: 0;position: absolute;width: 1px;}#sk-container-id-1 div.sk-estimator {font-family: monospace;background-color: #f0f8ff;border: 1px dotted black;border-radius: 0.25em;box-sizing: border-box;margin-bottom: 0.5em;}#sk-container-id-1 div.sk-estimator:hover {background-color: #d4ebff;}#sk-container-id-1 div.sk-parallel-item::after {content: \"\";width: 100%;border-bottom: 1px solid gray;flex-grow: 1;}#sk-container-id-1 div.sk-label:hover label.sk-toggleable__label {background-color: #d4ebff;}#sk-container-id-1 div.sk-serial::before {content: \"\";position: absolute;border-left: 1px solid gray;box-sizing: border-box;top: 0;bottom: 0;left: 50%;z-index: 0;}#sk-container-id-1 div.sk-serial {display: flex;flex-direction: column;align-items: center;background-color: white;padding-right: 0.2em;padding-left: 0.2em;position: relative;}#sk-container-id-1 div.sk-item {position: relative;z-index: 1;}#sk-container-id-1 div.sk-parallel {display: flex;align-items: stretch;justify-content: center;background-color: white;position: relative;}#sk-container-id-1 div.sk-item::before, #sk-container-id-1 div.sk-parallel-item::before {content: \"\";position: absolute;border-left: 1px solid gray;box-sizing: border-box;top: 0;bottom: 0;left: 50%;z-index: -1;}#sk-container-id-1 div.sk-parallel-item {display: flex;flex-direction: column;z-index: 1;position: relative;background-color: white;}#sk-container-id-1 div.sk-parallel-item:first-child::after {align-self: flex-end;width: 50%;}#sk-container-id-1 div.sk-parallel-item:last-child::after {align-self: flex-start;width: 50%;}#sk-container-id-1 div.sk-parallel-item:only-child::after {width: 0;}#sk-container-id-1 div.sk-dashed-wrapped {border: 1px dashed gray;margin: 0 0.4em 0.5em 0.4em;box-sizing: border-box;padding-bottom: 0.4em;background-color: white;}#sk-container-id-1 div.sk-label label {font-family: monospace;font-weight: bold;display: inline-block;line-height: 1.2em;}#sk-container-id-1 div.sk-label-container {text-align: center;}#sk-container-id-1 div.sk-container {/* jupyter's `normalize.less` sets `[hidden] { display: none; }` but bootstrap.min.css set `[hidden] { display: none !important; }` so we also need the `!important` here to be able to override the default hidden behavior on the sphinx rendered scikit-learn.org. See: https://github.com/scikit-learn/scikit-learn/issues/21755 */display: inline-block !important;position: relative;}#sk-container-id-1 div.sk-text-repr-fallback {display: none;}</style><div id=\"sk-container-id-1\" class=\"sk-top-container\"><div class=\"sk-text-repr-fallback\"><pre>MultinomialNB()</pre><b>In a Jupyter environment, please rerun this cell to show the HTML representation or trust the notebook. <br />On GitHub, the HTML representation is unable to render, please try loading this page with nbviewer.org.</b></div><div class=\"sk-container\" hidden><div class=\"sk-item\"><div class=\"sk-estimator sk-toggleable\"><input class=\"sk-toggleable__control sk-hidden--visually\" id=\"sk-estimator-id-1\" type=\"checkbox\" checked><label for=\"sk-estimator-id-1\" class=\"sk-toggleable__label sk-toggleable__label-arrow\">MultinomialNB</label><div class=\"sk-toggleable__content\"><pre>MultinomialNB()</pre></div></div></div></div></div>"
      ],
      "text/plain": [
       "MultinomialNB()"
      ]
     },
     "execution_count": 18,
     "metadata": {},
     "output_type": "execute_result"
    }
   ],
   "source": [
    "mnb.fit(X_train,y_train)"
   ]
  },
  {
   "cell_type": "code",
   "execution_count": 19,
   "id": "0694f535",
   "metadata": {
    "execution": {
     "iopub.execute_input": "2024-02-29T15:49:48.657762Z",
     "iopub.status.busy": "2024-02-29T15:49:48.656720Z",
     "iopub.status.idle": "2024-02-29T15:49:48.663613Z",
     "shell.execute_reply": "2024-02-29T15:49:48.662028Z"
    },
    "papermill": {
     "duration": 0.029279,
     "end_time": "2024-02-29T15:49:48.667376",
     "exception": false,
     "start_time": "2024-02-29T15:49:48.638097",
     "status": "completed"
    },
    "tags": []
   },
   "outputs": [],
   "source": [
    "y_pred_mnb = mnb.predict(X_test)"
   ]
  },
  {
   "cell_type": "code",
   "execution_count": 20,
   "id": "5f1851a7",
   "metadata": {
    "execution": {
     "iopub.execute_input": "2024-02-29T15:49:48.696795Z",
     "iopub.status.busy": "2024-02-29T15:49:48.696380Z",
     "iopub.status.idle": "2024-02-29T15:49:48.702718Z",
     "shell.execute_reply": "2024-02-29T15:49:48.701646Z"
    },
    "papermill": {
     "duration": 0.024012,
     "end_time": "2024-02-29T15:49:48.705322",
     "exception": false,
     "start_time": "2024-02-29T15:49:48.681310",
     "status": "completed"
    },
    "tags": []
   },
   "outputs": [
    {
     "data": {
      "text/plain": [
       "array([0, 0, 0, ..., 1, 1, 0])"
      ]
     },
     "execution_count": 20,
     "metadata": {},
     "output_type": "execute_result"
    }
   ],
   "source": [
    "y_pred_mnb"
   ]
  },
  {
   "cell_type": "code",
   "execution_count": 21,
   "id": "f09b2ba7",
   "metadata": {
    "execution": {
     "iopub.execute_input": "2024-02-29T15:49:48.735203Z",
     "iopub.status.busy": "2024-02-29T15:49:48.734102Z",
     "iopub.status.idle": "2024-02-29T15:49:48.743421Z",
     "shell.execute_reply": "2024-02-29T15:49:48.742069Z"
    },
    "papermill": {
     "duration": 0.028001,
     "end_time": "2024-02-29T15:49:48.747031",
     "exception": false,
     "start_time": "2024-02-29T15:49:48.719030",
     "status": "completed"
    },
    "tags": []
   },
   "outputs": [
    {
     "data": {
      "text/plain": [
       "0.7984241628365069"
      ]
     },
     "execution_count": 21,
     "metadata": {},
     "output_type": "execute_result"
    }
   ],
   "source": [
    "accuracy_score(y_test,y_pred_mnb)"
   ]
  },
  {
   "cell_type": "markdown",
   "id": "3d6a61fe",
   "metadata": {
    "papermill": {
     "duration": 0.018318,
     "end_time": "2024-02-29T15:49:48.784114",
     "exception": false,
     "start_time": "2024-02-29T15:49:48.765796",
     "status": "completed"
    },
    "tags": []
   },
   "source": [
    "**Bernoulli Naive-Bayes**"
   ]
  },
  {
   "cell_type": "code",
   "execution_count": 22,
   "id": "50db3c43",
   "metadata": {
    "execution": {
     "iopub.execute_input": "2024-02-29T15:49:48.822409Z",
     "iopub.status.busy": "2024-02-29T15:49:48.821395Z",
     "iopub.status.idle": "2024-02-29T15:49:48.838252Z",
     "shell.execute_reply": "2024-02-29T15:49:48.837078Z"
    },
    "papermill": {
     "duration": 0.041848,
     "end_time": "2024-02-29T15:49:48.841396",
     "exception": false,
     "start_time": "2024-02-29T15:49:48.799548",
     "status": "completed"
    },
    "tags": []
   },
   "outputs": [
    {
     "data": {
      "text/html": [
       "<style>#sk-container-id-2 {color: black;background-color: white;}#sk-container-id-2 pre{padding: 0;}#sk-container-id-2 div.sk-toggleable {background-color: white;}#sk-container-id-2 label.sk-toggleable__label {cursor: pointer;display: block;width: 100%;margin-bottom: 0;padding: 0.3em;box-sizing: border-box;text-align: center;}#sk-container-id-2 label.sk-toggleable__label-arrow:before {content: \"▸\";float: left;margin-right: 0.25em;color: #696969;}#sk-container-id-2 label.sk-toggleable__label-arrow:hover:before {color: black;}#sk-container-id-2 div.sk-estimator:hover label.sk-toggleable__label-arrow:before {color: black;}#sk-container-id-2 div.sk-toggleable__content {max-height: 0;max-width: 0;overflow: hidden;text-align: left;background-color: #f0f8ff;}#sk-container-id-2 div.sk-toggleable__content pre {margin: 0.2em;color: black;border-radius: 0.25em;background-color: #f0f8ff;}#sk-container-id-2 input.sk-toggleable__control:checked~div.sk-toggleable__content {max-height: 200px;max-width: 100%;overflow: auto;}#sk-container-id-2 input.sk-toggleable__control:checked~label.sk-toggleable__label-arrow:before {content: \"▾\";}#sk-container-id-2 div.sk-estimator input.sk-toggleable__control:checked~label.sk-toggleable__label {background-color: #d4ebff;}#sk-container-id-2 div.sk-label input.sk-toggleable__control:checked~label.sk-toggleable__label {background-color: #d4ebff;}#sk-container-id-2 input.sk-hidden--visually {border: 0;clip: rect(1px 1px 1px 1px);clip: rect(1px, 1px, 1px, 1px);height: 1px;margin: -1px;overflow: hidden;padding: 0;position: absolute;width: 1px;}#sk-container-id-2 div.sk-estimator {font-family: monospace;background-color: #f0f8ff;border: 1px dotted black;border-radius: 0.25em;box-sizing: border-box;margin-bottom: 0.5em;}#sk-container-id-2 div.sk-estimator:hover {background-color: #d4ebff;}#sk-container-id-2 div.sk-parallel-item::after {content: \"\";width: 100%;border-bottom: 1px solid gray;flex-grow: 1;}#sk-container-id-2 div.sk-label:hover label.sk-toggleable__label {background-color: #d4ebff;}#sk-container-id-2 div.sk-serial::before {content: \"\";position: absolute;border-left: 1px solid gray;box-sizing: border-box;top: 0;bottom: 0;left: 50%;z-index: 0;}#sk-container-id-2 div.sk-serial {display: flex;flex-direction: column;align-items: center;background-color: white;padding-right: 0.2em;padding-left: 0.2em;position: relative;}#sk-container-id-2 div.sk-item {position: relative;z-index: 1;}#sk-container-id-2 div.sk-parallel {display: flex;align-items: stretch;justify-content: center;background-color: white;position: relative;}#sk-container-id-2 div.sk-item::before, #sk-container-id-2 div.sk-parallel-item::before {content: \"\";position: absolute;border-left: 1px solid gray;box-sizing: border-box;top: 0;bottom: 0;left: 50%;z-index: -1;}#sk-container-id-2 div.sk-parallel-item {display: flex;flex-direction: column;z-index: 1;position: relative;background-color: white;}#sk-container-id-2 div.sk-parallel-item:first-child::after {align-self: flex-end;width: 50%;}#sk-container-id-2 div.sk-parallel-item:last-child::after {align-self: flex-start;width: 50%;}#sk-container-id-2 div.sk-parallel-item:only-child::after {width: 0;}#sk-container-id-2 div.sk-dashed-wrapped {border: 1px dashed gray;margin: 0 0.4em 0.5em 0.4em;box-sizing: border-box;padding-bottom: 0.4em;background-color: white;}#sk-container-id-2 div.sk-label label {font-family: monospace;font-weight: bold;display: inline-block;line-height: 1.2em;}#sk-container-id-2 div.sk-label-container {text-align: center;}#sk-container-id-2 div.sk-container {/* jupyter's `normalize.less` sets `[hidden] { display: none; }` but bootstrap.min.css set `[hidden] { display: none !important; }` so we also need the `!important` here to be able to override the default hidden behavior on the sphinx rendered scikit-learn.org. See: https://github.com/scikit-learn/scikit-learn/issues/21755 */display: inline-block !important;position: relative;}#sk-container-id-2 div.sk-text-repr-fallback {display: none;}</style><div id=\"sk-container-id-2\" class=\"sk-top-container\"><div class=\"sk-text-repr-fallback\"><pre>BernoulliNB(alpha=0.65)</pre><b>In a Jupyter environment, please rerun this cell to show the HTML representation or trust the notebook. <br />On GitHub, the HTML representation is unable to render, please try loading this page with nbviewer.org.</b></div><div class=\"sk-container\" hidden><div class=\"sk-item\"><div class=\"sk-estimator sk-toggleable\"><input class=\"sk-toggleable__control sk-hidden--visually\" id=\"sk-estimator-id-2\" type=\"checkbox\" checked><label for=\"sk-estimator-id-2\" class=\"sk-toggleable__label sk-toggleable__label-arrow\">BernoulliNB</label><div class=\"sk-toggleable__content\"><pre>BernoulliNB(alpha=0.65)</pre></div></div></div></div></div>"
      ],
      "text/plain": [
       "BernoulliNB(alpha=0.65)"
      ]
     },
     "execution_count": 22,
     "metadata": {},
     "output_type": "execute_result"
    }
   ],
   "source": [
    "bnb = BernoulliNB(alpha = 0.65)\n",
    "bnb.fit(X_train,y_train)"
   ]
  },
  {
   "cell_type": "code",
   "execution_count": 23,
   "id": "917a12e0",
   "metadata": {
    "execution": {
     "iopub.execute_input": "2024-02-29T15:49:48.884190Z",
     "iopub.status.busy": "2024-02-29T15:49:48.883611Z",
     "iopub.status.idle": "2024-02-29T15:49:48.889609Z",
     "shell.execute_reply": "2024-02-29T15:49:48.888774Z"
    },
    "papermill": {
     "duration": 0.029695,
     "end_time": "2024-02-29T15:49:48.891820",
     "exception": false,
     "start_time": "2024-02-29T15:49:48.862125",
     "status": "completed"
    },
    "tags": []
   },
   "outputs": [],
   "source": [
    "y_pred_bnb = bnb.predict(X_test)"
   ]
  },
  {
   "cell_type": "code",
   "execution_count": 24,
   "id": "2ae5c9d8",
   "metadata": {
    "execution": {
     "iopub.execute_input": "2024-02-29T15:49:48.923091Z",
     "iopub.status.busy": "2024-02-29T15:49:48.922354Z",
     "iopub.status.idle": "2024-02-29T15:49:48.930003Z",
     "shell.execute_reply": "2024-02-29T15:49:48.929140Z"
    },
    "papermill": {
     "duration": 0.026002,
     "end_time": "2024-02-29T15:49:48.932543",
     "exception": false,
     "start_time": "2024-02-29T15:49:48.906541",
     "status": "completed"
    },
    "tags": []
   },
   "outputs": [
    {
     "data": {
      "text/plain": [
       "0.7951411687458962"
      ]
     },
     "execution_count": 24,
     "metadata": {},
     "output_type": "execute_result"
    }
   ],
   "source": [
    "accuracy_score(y_test,y_pred_bnb)"
   ]
  },
  {
   "cell_type": "markdown",
   "id": "116ffee4",
   "metadata": {
    "papermill": {
     "duration": 0.013995,
     "end_time": "2024-02-29T15:49:48.960956",
     "exception": false,
     "start_time": "2024-02-29T15:49:48.946961",
     "status": "completed"
    },
    "tags": []
   },
   "source": [
    "**RandomForestClassifier**"
   ]
  },
  {
   "cell_type": "code",
   "execution_count": 25,
   "id": "d016a62c",
   "metadata": {
    "execution": {
     "iopub.execute_input": "2024-02-29T15:49:48.993459Z",
     "iopub.status.busy": "2024-02-29T15:49:48.992963Z",
     "iopub.status.idle": "2024-02-29T15:49:48.999285Z",
     "shell.execute_reply": "2024-02-29T15:49:48.997876Z"
    },
    "papermill": {
     "duration": 0.028294,
     "end_time": "2024-02-29T15:49:49.003628",
     "exception": false,
     "start_time": "2024-02-29T15:49:48.975334",
     "status": "completed"
    },
    "tags": []
   },
   "outputs": [],
   "source": [
    "rf = RandomForestClassifier(n_estimators=71)"
   ]
  },
  {
   "cell_type": "code",
   "execution_count": 26,
   "id": "d7bdf606",
   "metadata": {
    "execution": {
     "iopub.execute_input": "2024-02-29T15:49:49.040778Z",
     "iopub.status.busy": "2024-02-29T15:49:49.039528Z",
     "iopub.status.idle": "2024-02-29T15:49:54.130331Z",
     "shell.execute_reply": "2024-02-29T15:49:54.129328Z"
    },
    "papermill": {
     "duration": 5.110271,
     "end_time": "2024-02-29T15:49:54.133072",
     "exception": false,
     "start_time": "2024-02-29T15:49:49.022801",
     "status": "completed"
    },
    "tags": []
   },
   "outputs": [
    {
     "data": {
      "text/html": [
       "<style>#sk-container-id-3 {color: black;background-color: white;}#sk-container-id-3 pre{padding: 0;}#sk-container-id-3 div.sk-toggleable {background-color: white;}#sk-container-id-3 label.sk-toggleable__label {cursor: pointer;display: block;width: 100%;margin-bottom: 0;padding: 0.3em;box-sizing: border-box;text-align: center;}#sk-container-id-3 label.sk-toggleable__label-arrow:before {content: \"▸\";float: left;margin-right: 0.25em;color: #696969;}#sk-container-id-3 label.sk-toggleable__label-arrow:hover:before {color: black;}#sk-container-id-3 div.sk-estimator:hover label.sk-toggleable__label-arrow:before {color: black;}#sk-container-id-3 div.sk-toggleable__content {max-height: 0;max-width: 0;overflow: hidden;text-align: left;background-color: #f0f8ff;}#sk-container-id-3 div.sk-toggleable__content pre {margin: 0.2em;color: black;border-radius: 0.25em;background-color: #f0f8ff;}#sk-container-id-3 input.sk-toggleable__control:checked~div.sk-toggleable__content {max-height: 200px;max-width: 100%;overflow: auto;}#sk-container-id-3 input.sk-toggleable__control:checked~label.sk-toggleable__label-arrow:before {content: \"▾\";}#sk-container-id-3 div.sk-estimator input.sk-toggleable__control:checked~label.sk-toggleable__label {background-color: #d4ebff;}#sk-container-id-3 div.sk-label input.sk-toggleable__control:checked~label.sk-toggleable__label {background-color: #d4ebff;}#sk-container-id-3 input.sk-hidden--visually {border: 0;clip: rect(1px 1px 1px 1px);clip: rect(1px, 1px, 1px, 1px);height: 1px;margin: -1px;overflow: hidden;padding: 0;position: absolute;width: 1px;}#sk-container-id-3 div.sk-estimator {font-family: monospace;background-color: #f0f8ff;border: 1px dotted black;border-radius: 0.25em;box-sizing: border-box;margin-bottom: 0.5em;}#sk-container-id-3 div.sk-estimator:hover {background-color: #d4ebff;}#sk-container-id-3 div.sk-parallel-item::after {content: \"\";width: 100%;border-bottom: 1px solid gray;flex-grow: 1;}#sk-container-id-3 div.sk-label:hover label.sk-toggleable__label {background-color: #d4ebff;}#sk-container-id-3 div.sk-serial::before {content: \"\";position: absolute;border-left: 1px solid gray;box-sizing: border-box;top: 0;bottom: 0;left: 50%;z-index: 0;}#sk-container-id-3 div.sk-serial {display: flex;flex-direction: column;align-items: center;background-color: white;padding-right: 0.2em;padding-left: 0.2em;position: relative;}#sk-container-id-3 div.sk-item {position: relative;z-index: 1;}#sk-container-id-3 div.sk-parallel {display: flex;align-items: stretch;justify-content: center;background-color: white;position: relative;}#sk-container-id-3 div.sk-item::before, #sk-container-id-3 div.sk-parallel-item::before {content: \"\";position: absolute;border-left: 1px solid gray;box-sizing: border-box;top: 0;bottom: 0;left: 50%;z-index: -1;}#sk-container-id-3 div.sk-parallel-item {display: flex;flex-direction: column;z-index: 1;position: relative;background-color: white;}#sk-container-id-3 div.sk-parallel-item:first-child::after {align-self: flex-end;width: 50%;}#sk-container-id-3 div.sk-parallel-item:last-child::after {align-self: flex-start;width: 50%;}#sk-container-id-3 div.sk-parallel-item:only-child::after {width: 0;}#sk-container-id-3 div.sk-dashed-wrapped {border: 1px dashed gray;margin: 0 0.4em 0.5em 0.4em;box-sizing: border-box;padding-bottom: 0.4em;background-color: white;}#sk-container-id-3 div.sk-label label {font-family: monospace;font-weight: bold;display: inline-block;line-height: 1.2em;}#sk-container-id-3 div.sk-label-container {text-align: center;}#sk-container-id-3 div.sk-container {/* jupyter's `normalize.less` sets `[hidden] { display: none; }` but bootstrap.min.css set `[hidden] { display: none !important; }` so we also need the `!important` here to be able to override the default hidden behavior on the sphinx rendered scikit-learn.org. See: https://github.com/scikit-learn/scikit-learn/issues/21755 */display: inline-block !important;position: relative;}#sk-container-id-3 div.sk-text-repr-fallback {display: none;}</style><div id=\"sk-container-id-3\" class=\"sk-top-container\"><div class=\"sk-text-repr-fallback\"><pre>RandomForestClassifier(n_estimators=71)</pre><b>In a Jupyter environment, please rerun this cell to show the HTML representation or trust the notebook. <br />On GitHub, the HTML representation is unable to render, please try loading this page with nbviewer.org.</b></div><div class=\"sk-container\" hidden><div class=\"sk-item\"><div class=\"sk-estimator sk-toggleable\"><input class=\"sk-toggleable__control sk-hidden--visually\" id=\"sk-estimator-id-3\" type=\"checkbox\" checked><label for=\"sk-estimator-id-3\" class=\"sk-toggleable__label sk-toggleable__label-arrow\">RandomForestClassifier</label><div class=\"sk-toggleable__content\"><pre>RandomForestClassifier(n_estimators=71)</pre></div></div></div></div></div>"
      ],
      "text/plain": [
       "RandomForestClassifier(n_estimators=71)"
      ]
     },
     "execution_count": 26,
     "metadata": {},
     "output_type": "execute_result"
    }
   ],
   "source": [
    "rf.fit(X_train,y_train)"
   ]
  },
  {
   "cell_type": "code",
   "execution_count": 27,
   "id": "90d1b523",
   "metadata": {
    "execution": {
     "iopub.execute_input": "2024-02-29T15:49:54.165822Z",
     "iopub.status.busy": "2024-02-29T15:49:54.165429Z",
     "iopub.status.idle": "2024-02-29T15:49:54.275153Z",
     "shell.execute_reply": "2024-02-29T15:49:54.273917Z"
    },
    "papermill": {
     "duration": 0.130029,
     "end_time": "2024-02-29T15:49:54.278018",
     "exception": false,
     "start_time": "2024-02-29T15:49:54.147989",
     "status": "completed"
    },
    "tags": []
   },
   "outputs": [],
   "source": [
    "y_pred_rf = rf.predict(X_test)"
   ]
  },
  {
   "cell_type": "code",
   "execution_count": 28,
   "id": "7f79bfe0",
   "metadata": {
    "execution": {
     "iopub.execute_input": "2024-02-29T15:49:54.309091Z",
     "iopub.status.busy": "2024-02-29T15:49:54.308648Z",
     "iopub.status.idle": "2024-02-29T15:49:54.317517Z",
     "shell.execute_reply": "2024-02-29T15:49:54.316438Z"
    },
    "papermill": {
     "duration": 0.026703,
     "end_time": "2024-02-29T15:49:54.319668",
     "exception": false,
     "start_time": "2024-02-29T15:49:54.292965",
     "status": "completed"
    },
    "tags": []
   },
   "outputs": [
    {
     "data": {
      "text/plain": [
       "0.788575180564675"
      ]
     },
     "execution_count": 28,
     "metadata": {},
     "output_type": "execute_result"
    }
   ],
   "source": [
    "accuracy_score(y_test,y_pred_rf)"
   ]
  },
  {
   "cell_type": "markdown",
   "id": "b826a30b",
   "metadata": {
    "papermill": {
     "duration": 0.014616,
     "end_time": "2024-02-29T15:49:54.349634",
     "exception": false,
     "start_time": "2024-02-29T15:49:54.335018",
     "status": "completed"
    },
    "tags": []
   },
   "source": [
    "> ****Logistic Regression****"
   ]
  },
  {
   "cell_type": "code",
   "execution_count": 29,
   "id": "4ea1da0e",
   "metadata": {
    "execution": {
     "iopub.execute_input": "2024-02-29T15:49:54.380927Z",
     "iopub.status.busy": "2024-02-29T15:49:54.380190Z",
     "iopub.status.idle": "2024-02-29T15:49:54.384504Z",
     "shell.execute_reply": "2024-02-29T15:49:54.383693Z"
    },
    "papermill": {
     "duration": 0.022268,
     "end_time": "2024-02-29T15:49:54.386527",
     "exception": false,
     "start_time": "2024-02-29T15:49:54.364259",
     "status": "completed"
    },
    "tags": []
   },
   "outputs": [],
   "source": [
    "lr = LogisticRegression(max_iter=1000)"
   ]
  },
  {
   "cell_type": "code",
   "execution_count": 30,
   "id": "eeabab2f",
   "metadata": {
    "execution": {
     "iopub.execute_input": "2024-02-29T15:49:54.417851Z",
     "iopub.status.busy": "2024-02-29T15:49:54.417167Z",
     "iopub.status.idle": "2024-02-29T15:49:54.529480Z",
     "shell.execute_reply": "2024-02-29T15:49:54.528569Z"
    },
    "papermill": {
     "duration": 0.130474,
     "end_time": "2024-02-29T15:49:54.531666",
     "exception": false,
     "start_time": "2024-02-29T15:49:54.401192",
     "status": "completed"
    },
    "tags": []
   },
   "outputs": [
    {
     "data": {
      "text/html": [
       "<style>#sk-container-id-4 {color: black;background-color: white;}#sk-container-id-4 pre{padding: 0;}#sk-container-id-4 div.sk-toggleable {background-color: white;}#sk-container-id-4 label.sk-toggleable__label {cursor: pointer;display: block;width: 100%;margin-bottom: 0;padding: 0.3em;box-sizing: border-box;text-align: center;}#sk-container-id-4 label.sk-toggleable__label-arrow:before {content: \"▸\";float: left;margin-right: 0.25em;color: #696969;}#sk-container-id-4 label.sk-toggleable__label-arrow:hover:before {color: black;}#sk-container-id-4 div.sk-estimator:hover label.sk-toggleable__label-arrow:before {color: black;}#sk-container-id-4 div.sk-toggleable__content {max-height: 0;max-width: 0;overflow: hidden;text-align: left;background-color: #f0f8ff;}#sk-container-id-4 div.sk-toggleable__content pre {margin: 0.2em;color: black;border-radius: 0.25em;background-color: #f0f8ff;}#sk-container-id-4 input.sk-toggleable__control:checked~div.sk-toggleable__content {max-height: 200px;max-width: 100%;overflow: auto;}#sk-container-id-4 input.sk-toggleable__control:checked~label.sk-toggleable__label-arrow:before {content: \"▾\";}#sk-container-id-4 div.sk-estimator input.sk-toggleable__control:checked~label.sk-toggleable__label {background-color: #d4ebff;}#sk-container-id-4 div.sk-label input.sk-toggleable__control:checked~label.sk-toggleable__label {background-color: #d4ebff;}#sk-container-id-4 input.sk-hidden--visually {border: 0;clip: rect(1px 1px 1px 1px);clip: rect(1px, 1px, 1px, 1px);height: 1px;margin: -1px;overflow: hidden;padding: 0;position: absolute;width: 1px;}#sk-container-id-4 div.sk-estimator {font-family: monospace;background-color: #f0f8ff;border: 1px dotted black;border-radius: 0.25em;box-sizing: border-box;margin-bottom: 0.5em;}#sk-container-id-4 div.sk-estimator:hover {background-color: #d4ebff;}#sk-container-id-4 div.sk-parallel-item::after {content: \"\";width: 100%;border-bottom: 1px solid gray;flex-grow: 1;}#sk-container-id-4 div.sk-label:hover label.sk-toggleable__label {background-color: #d4ebff;}#sk-container-id-4 div.sk-serial::before {content: \"\";position: absolute;border-left: 1px solid gray;box-sizing: border-box;top: 0;bottom: 0;left: 50%;z-index: 0;}#sk-container-id-4 div.sk-serial {display: flex;flex-direction: column;align-items: center;background-color: white;padding-right: 0.2em;padding-left: 0.2em;position: relative;}#sk-container-id-4 div.sk-item {position: relative;z-index: 1;}#sk-container-id-4 div.sk-parallel {display: flex;align-items: stretch;justify-content: center;background-color: white;position: relative;}#sk-container-id-4 div.sk-item::before, #sk-container-id-4 div.sk-parallel-item::before {content: \"\";position: absolute;border-left: 1px solid gray;box-sizing: border-box;top: 0;bottom: 0;left: 50%;z-index: -1;}#sk-container-id-4 div.sk-parallel-item {display: flex;flex-direction: column;z-index: 1;position: relative;background-color: white;}#sk-container-id-4 div.sk-parallel-item:first-child::after {align-self: flex-end;width: 50%;}#sk-container-id-4 div.sk-parallel-item:last-child::after {align-self: flex-start;width: 50%;}#sk-container-id-4 div.sk-parallel-item:only-child::after {width: 0;}#sk-container-id-4 div.sk-dashed-wrapped {border: 1px dashed gray;margin: 0 0.4em 0.5em 0.4em;box-sizing: border-box;padding-bottom: 0.4em;background-color: white;}#sk-container-id-4 div.sk-label label {font-family: monospace;font-weight: bold;display: inline-block;line-height: 1.2em;}#sk-container-id-4 div.sk-label-container {text-align: center;}#sk-container-id-4 div.sk-container {/* jupyter's `normalize.less` sets `[hidden] { display: none; }` but bootstrap.min.css set `[hidden] { display: none !important; }` so we also need the `!important` here to be able to override the default hidden behavior on the sphinx rendered scikit-learn.org. See: https://github.com/scikit-learn/scikit-learn/issues/21755 */display: inline-block !important;position: relative;}#sk-container-id-4 div.sk-text-repr-fallback {display: none;}</style><div id=\"sk-container-id-4\" class=\"sk-top-container\"><div class=\"sk-text-repr-fallback\"><pre>LogisticRegression(max_iter=1000)</pre><b>In a Jupyter environment, please rerun this cell to show the HTML representation or trust the notebook. <br />On GitHub, the HTML representation is unable to render, please try loading this page with nbviewer.org.</b></div><div class=\"sk-container\" hidden><div class=\"sk-item\"><div class=\"sk-estimator sk-toggleable\"><input class=\"sk-toggleable__control sk-hidden--visually\" id=\"sk-estimator-id-4\" type=\"checkbox\" checked><label for=\"sk-estimator-id-4\" class=\"sk-toggleable__label sk-toggleable__label-arrow\">LogisticRegression</label><div class=\"sk-toggleable__content\"><pre>LogisticRegression(max_iter=1000)</pre></div></div></div></div></div>"
      ],
      "text/plain": [
       "LogisticRegression(max_iter=1000)"
      ]
     },
     "execution_count": 30,
     "metadata": {},
     "output_type": "execute_result"
    }
   ],
   "source": [
    "lr.fit(X_train,y_train)"
   ]
  },
  {
   "cell_type": "code",
   "execution_count": 31,
   "id": "040a9dde",
   "metadata": {
    "execution": {
     "iopub.execute_input": "2024-02-29T15:49:54.563595Z",
     "iopub.status.busy": "2024-02-29T15:49:54.562932Z",
     "iopub.status.idle": "2024-02-29T15:49:54.567579Z",
     "shell.execute_reply": "2024-02-29T15:49:54.566776Z"
    },
    "papermill": {
     "duration": 0.023388,
     "end_time": "2024-02-29T15:49:54.569915",
     "exception": false,
     "start_time": "2024-02-29T15:49:54.546527",
     "status": "completed"
    },
    "tags": []
   },
   "outputs": [],
   "source": [
    "pred_y_lr = lr.predict(X_test)"
   ]
  },
  {
   "cell_type": "code",
   "execution_count": 32,
   "id": "5bb50ac5",
   "metadata": {
    "execution": {
     "iopub.execute_input": "2024-02-29T15:49:54.601999Z",
     "iopub.status.busy": "2024-02-29T15:49:54.601312Z",
     "iopub.status.idle": "2024-02-29T15:49:54.608322Z",
     "shell.execute_reply": "2024-02-29T15:49:54.607577Z"
    },
    "papermill": {
     "duration": 0.025234,
     "end_time": "2024-02-29T15:49:54.610389",
     "exception": false,
     "start_time": "2024-02-29T15:49:54.585155",
     "status": "completed"
    },
    "tags": []
   },
   "outputs": [
    {
     "data": {
      "text/plain": [
       "0.7997373604727511"
      ]
     },
     "execution_count": 32,
     "metadata": {},
     "output_type": "execute_result"
    }
   ],
   "source": [
    "accuracy_score(y_test,pred_y_lr)"
   ]
  },
  {
   "cell_type": "markdown",
   "id": "b5b5a662",
   "metadata": {
    "papermill": {
     "duration": 0.014565,
     "end_time": "2024-02-29T15:49:54.639971",
     "exception": false,
     "start_time": "2024-02-29T15:49:54.625406",
     "status": "completed"
    },
    "tags": []
   },
   "source": [
    "**Best Model is-> Bernoulli Naive-Bayes**\n",
    "> *Accuracy = 0.7964543663821405*"
   ]
  },
  {
   "cell_type": "code",
   "execution_count": null,
   "id": "a7081aed",
   "metadata": {
    "papermill": {
     "duration": 0.01634,
     "end_time": "2024-02-29T15:49:54.671400",
     "exception": false,
     "start_time": "2024-02-29T15:49:54.655060",
     "status": "completed"
    },
    "tags": []
   },
   "outputs": [],
   "source": []
  }
 ],
 "metadata": {
  "kaggle": {
   "accelerator": "none",
   "dataSources": [
    {
     "databundleVersionId": 869809,
     "sourceId": 17777,
     "sourceType": "competition"
    }
   ],
   "dockerImageVersionId": 30664,
   "isGpuEnabled": false,
   "isInternetEnabled": true,
   "language": "python",
   "sourceType": "notebook"
  },
  "kernelspec": {
   "display_name": "Python 3",
   "language": "python",
   "name": "python3"
  },
  "language_info": {
   "codemirror_mode": {
    "name": "ipython",
    "version": 3
   },
   "file_extension": ".py",
   "mimetype": "text/x-python",
   "name": "python",
   "nbconvert_exporter": "python",
   "pygments_lexer": "ipython3",
   "version": "3.10.13"
  },
  "papermill": {
   "default_parameters": {},
   "duration": 15.216256,
   "end_time": "2024-02-29T15:49:55.408395",
   "environment_variables": {},
   "exception": null,
   "input_path": "__notebook__.ipynb",
   "output_path": "__notebook__.ipynb",
   "parameters": {},
   "start_time": "2024-02-29T15:49:40.192139",
   "version": "2.5.0"
  }
 },
 "nbformat": 4,
 "nbformat_minor": 5
}
